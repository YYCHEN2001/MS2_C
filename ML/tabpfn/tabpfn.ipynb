{
 "cells": [
  {
   "cell_type": "code",
   "execution_count": 1,
   "metadata": {},
   "outputs": [],
   "source": [
    "import pandas as pd\n",
    "import sys\n",
    "import os\n",
    "from sklearn.model_selection import train_test_split\n",
    "from sklearn.metrics import root_mean_squared_error\n",
    "from tabpfn import TabPFNRegressor\n",
    "\n",
    "# 将当前工作目录添加到 Python 路径\n",
    "# 获取当前工作目录\n",
    "current_working_dir = os.getcwd()\n",
    "\n",
    "# 将根目录添加到 sys.path\n",
    "sys.path.append(os.path.abspath(os.path.join(current_working_dir, '../..')))"
   ]
  },
  {
   "cell_type": "code",
   "execution_count": 5,
   "metadata": {},
   "outputs": [],
   "source": [
    "# 读取数据\n",
    "df = pd.read_csv('../../data/dataset.csv')\n",
    "\n",
    "# 对指定列进行独热编码\n",
    "columns_to_encode = ['CM_type', 'CM_morph', 'MS2_morph', 'CP_morph', 'Cation', 'Anion']\n",
    "df_encoded = pd.get_dummies(df, columns=columns_to_encode)\n",
    "\n",
    "# 分割数据集\n",
    "X = df_encoded.drop(['Cs'], axis=1)\n",
    "y = df_encoded['Cs']\n",
    "\n",
    "X_train, X_test, y_train, y_test = train_test_split(\n",
    "    X, y, test_size=0.2, random_state=6\n",
    ")"
   ]
  },
  {
   "cell_type": "code",
   "execution_count": 4,
   "metadata": {},
   "outputs": [
    {
     "name": "stdout",
     "output_type": "stream",
     "text": [
      "Best Seed: 6\n",
      "Best RMSE: 48.42965286385541\n"
     ]
    }
   ],
   "source": [
    "# 初始化变量\n",
    "import numpy as np\n",
    "\n",
    "\n",
    "best_seed = None\n",
    "best_rmse = float('inf')\n",
    "\n",
    "# 遍历随机种子从 0 到 99\n",
    "for seed in range(100):\n",
    "    X_train, X_test, y_train, y_test = train_test_split(X, y, test_size=0.2, random_state=seed)\n",
    "    \n",
    "    # 训练模型\n",
    "    model = TabPFNRegressor()\n",
    "    model.fit(X_train, y_train)\n",
    "    \n",
    "    # 预测\n",
    "    y_test_pred = model.predict(X_test)\n",
    "    \n",
    "    # 计算 RMSE\n",
    "    rmse_test = root_mean_squared_error(y_test, y_test_pred)\n",
    "    \n",
    "    # 更新最佳随机种子和最小 RMSE\n",
    "    if rmse_test < best_rmse:\n",
    "        best_rmse = rmse_test\n",
    "        best_seed = seed\n",
    "\n",
    "print(f\"Best Seed: {best_seed}\")\n",
    "print(f\"Best RMSE: {best_rmse}\")"
   ]
  },
  {
   "cell_type": "code",
   "execution_count": 6,
   "metadata": {},
   "outputs": [
    {
     "data": {
      "text/html": [
       "<div>\n",
       "<style scoped>\n",
       "    .dataframe tbody tr th:only-of-type {\n",
       "        vertical-align: middle;\n",
       "    }\n",
       "\n",
       "    .dataframe tbody tr th {\n",
       "        vertical-align: top;\n",
       "    }\n",
       "\n",
       "    .dataframe thead th {\n",
       "        text-align: right;\n",
       "    }\n",
       "</style>\n",
       "<table border=\"1\" class=\"dataframe\">\n",
       "  <thead>\n",
       "    <tr style=\"text-align: right;\">\n",
       "      <th></th>\n",
       "      <th>model</th>\n",
       "      <th>R2_train</th>\n",
       "      <th>MAE_train</th>\n",
       "      <th>MAPE_train</th>\n",
       "      <th>RMSE_train</th>\n",
       "      <th>R2_test</th>\n",
       "      <th>MAE_test</th>\n",
       "      <th>MAPE_test</th>\n",
       "      <th>RMSE_test</th>\n",
       "    </tr>\n",
       "  </thead>\n",
       "  <tbody>\n",
       "    <tr>\n",
       "      <th>0</th>\n",
       "      <td>TabPFN</td>\n",
       "      <td>0.993648</td>\n",
       "      <td>14.949051</td>\n",
       "      <td>2.747702</td>\n",
       "      <td>52.491426</td>\n",
       "      <td>0.993233</td>\n",
       "      <td>28.377919</td>\n",
       "      <td>7.329472</td>\n",
       "      <td>48.429653</td>\n",
       "    </tr>\n",
       "  </tbody>\n",
       "</table>\n",
       "</div>"
      ],
      "text/plain": [
       "    model  R2_train  MAE_train  MAPE_train  RMSE_train   R2_test   MAE_test  \\\n",
       "0  TabPFN  0.993648  14.949051    2.747702   52.491426  0.993233  28.377919   \n",
       "\n",
       "   MAPE_test  RMSE_test  \n",
       "0   7.329472  48.429653  "
      ]
     },
     "execution_count": 6,
     "metadata": {},
     "output_type": "execute_result"
    }
   ],
   "source": [
    "# 初始化TabPFN回归模型\n",
    "model = TabPFNRegressor()\n",
    "\n",
    "# 训练模型\n",
    "model.fit(X_train, y_train)\n",
    "\n",
    "# 预测\n",
    "y_train_pred = model.predict(X_train)\n",
    "y_test_pred = model.predict(X_test)\n",
    "\n",
    "# 评估\n",
    "from function import metrics_to_dataframe\n",
    "xgb_metrics = metrics_to_dataframe(y_train, y_train_pred, y_test, y_test_pred, 'TabPFN')\n",
    "xgb_metrics"
   ]
  }
 ],
 "metadata": {
  "kernelspec": {
   "display_name": "ml_ms2",
   "language": "python",
   "name": "ml_ms2"
  },
  "language_info": {
   "codemirror_mode": {
    "name": "ipython",
    "version": 3
   },
   "file_extension": ".py",
   "mimetype": "text/x-python",
   "name": "python",
   "nbconvert_exporter": "python",
   "pygments_lexer": "ipython3",
   "version": "3.12.9"
  }
 },
 "nbformat": 4,
 "nbformat_minor": 2
}

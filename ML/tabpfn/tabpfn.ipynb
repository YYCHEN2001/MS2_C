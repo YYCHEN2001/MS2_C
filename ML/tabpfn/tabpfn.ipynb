{
 "cells": [
  {
   "cell_type": "code",
   "execution_count": 6,
   "metadata": {},
   "outputs": [],
   "source": [
    "import pandas as pd\n",
    "import numpy as np\n",
    "import sys\n",
    "import os\n",
    "from sklearn.model_selection import train_test_split\n",
    "from tabpfn import TabPFNRegressor\n",
    "\n",
    "# 将当前工作目录添加到 Python 路径\n",
    "# 获取当前工作目录\n",
    "current_working_dir = os.getcwd()\n",
    "\n",
    "# 将根目录添加到 sys.path\n",
    "sys.path.append(os.path.abspath(os.path.join(current_working_dir, '../..')))"
   ]
  },
  {
   "cell_type": "code",
   "execution_count": 7,
   "metadata": {},
   "outputs": [],
   "source": [
    "# 读取数据\n",
    "df = pd.read_csv('../../data/dataset.csv')\n",
    "\n",
    "df = df.drop(['C', 'Cation', 'Anion'], axis=1)\n",
    "# 对指定列进行独热编码\n",
    "columns_to_encode = ['CM_type', 'CM_morph', 'MS2_morph', 'CP_morph']\n",
    "df_encoded = pd.get_dummies(df, columns=columns_to_encode)\n",
    "\n",
    "# # 对目标值进行对数变换\n",
    "# df_encoded['Cs_log'] = df_encoded['Cs'].apply(lambda x: np.log(x))\n",
    "\n",
    "X = df_encoded.drop(['Cs'], axis=1)\n",
    "y = df_encoded['Cs']\n",
    "\n",
    "# 划分训练集和测试集\n",
    "X_train, X_test, y_train, y_test = train_test_split(\n",
    "    X, y, test_size=0.2, random_state=21\n",
    ")"
   ]
  },
  {
   "cell_type": "code",
   "execution_count": 8,
   "metadata": {},
   "outputs": [
    {
     "data": {
      "text/html": [
       "<div>\n",
       "<style scoped>\n",
       "    .dataframe tbody tr th:only-of-type {\n",
       "        vertical-align: middle;\n",
       "    }\n",
       "\n",
       "    .dataframe tbody tr th {\n",
       "        vertical-align: top;\n",
       "    }\n",
       "\n",
       "    .dataframe thead th {\n",
       "        text-align: right;\n",
       "    }\n",
       "</style>\n",
       "<table border=\"1\" class=\"dataframe\">\n",
       "  <thead>\n",
       "    <tr style=\"text-align: right;\">\n",
       "      <th></th>\n",
       "      <th>model</th>\n",
       "      <th>R2_train</th>\n",
       "      <th>MAE_train</th>\n",
       "      <th>MAPE_train</th>\n",
       "      <th>RMSE_train</th>\n",
       "      <th>R2_test</th>\n",
       "      <th>MAE_test</th>\n",
       "      <th>MAPE_test</th>\n",
       "      <th>RMSE_test</th>\n",
       "    </tr>\n",
       "  </thead>\n",
       "  <tbody>\n",
       "    <tr>\n",
       "      <th>0</th>\n",
       "      <td>TabPFN</td>\n",
       "      <td>0.991871</td>\n",
       "      <td>11.528524</td>\n",
       "      <td>2.731527</td>\n",
       "      <td>40.912747</td>\n",
       "      <td>0.980866</td>\n",
       "      <td>27.729611</td>\n",
       "      <td>10.426159</td>\n",
       "      <td>49.904347</td>\n",
       "    </tr>\n",
       "  </tbody>\n",
       "</table>\n",
       "</div>"
      ],
      "text/plain": [
       "    model  R2_train  MAE_train  MAPE_train  RMSE_train   R2_test   MAE_test  \\\n",
       "0  TabPFN  0.991871  11.528524    2.731527   40.912747  0.980866  27.729611   \n",
       "\n",
       "   MAPE_test  RMSE_test  \n",
       "0  10.426159  49.904347  "
      ]
     },
     "execution_count": 8,
     "metadata": {},
     "output_type": "execute_result"
    }
   ],
   "source": [
    "# 初始化TabPFN回归模型\n",
    "model = TabPFNRegressor()\n",
    "\n",
    "# 训练模型\n",
    "model.fit(X_train, y_train)\n",
    "\n",
    "# 预测\n",
    "y_train_pred = model.predict(X_train)\n",
    "y_test_pred = model.predict(X_test)\n",
    "\n",
    "# # 将预测值转换为原始值\n",
    "# y_train_pred = np.exp(y_train_pred)\n",
    "# y_test_pred = np.exp(y_test_pred)\n",
    "# y_train = np.exp(y_train)\n",
    "# y_test = np.exp(y_test)\n",
    "\n",
    "# 评估\n",
    "from function import metrics_to_dataframe\n",
    "tabpfn_metrics = metrics_to_dataframe(y_train, y_train_pred, y_test, y_test_pred, 'TabPFN')\n",
    "tabpfn_metrics"
   ]
  }
 ],
 "metadata": {
  "kernelspec": {
   "display_name": "ml_ms2",
   "language": "python",
   "name": "ml_ms2"
  },
  "language_info": {
   "codemirror_mode": {
    "name": "ipython",
    "version": 3
   },
   "file_extension": ".py",
   "mimetype": "text/x-python",
   "name": "python",
   "nbconvert_exporter": "python",
   "pygments_lexer": "ipython3",
   "version": "3.12.9"
  }
 },
 "nbformat": 4,
 "nbformat_minor": 2
}

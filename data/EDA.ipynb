{
 "cells": [
  {
   "cell_type": "code",
   "execution_count": 1,
   "metadata": {},
   "outputs": [],
   "source": [
    "import pandas as pd\n",
    "\n",
    "# 读取数据\n",
    "data = pd.read_csv('dataset_procession_ver_6.csv')"
   ]
  },
  {
   "cell_type": "code",
   "execution_count": 2,
   "metadata": {},
   "outputs": [
    {
     "name": "stdout",
     "output_type": "stream",
     "text": [
      "Data Info:\n",
      "<class 'pandas.core.frame.DataFrame'>\n",
      "RangeIndex: 794 entries, 0 to 793\n",
      "Data columns (total 24 columns):\n",
      " #   Column     Non-Null Count  Dtype  \n",
      "---  ------     --------------  -----  \n",
      " 0   Name       794 non-null    object \n",
      " 1   Ti         794 non-null    bool   \n",
      " 2   V          794 non-null    bool   \n",
      " 3   Mn         794 non-null    bool   \n",
      " 4   Fe         794 non-null    bool   \n",
      " 5   Co         794 non-null    bool   \n",
      " 6   Ni         794 non-null    bool   \n",
      " 7   Zr         794 non-null    bool   \n",
      " 8   Mo         794 non-null    bool   \n",
      " 9   Sn         794 non-null    bool   \n",
      " 10  W          794 non-null    bool   \n",
      " 11  CP         794 non-null    bool   \n",
      " 12  CM_type    794 non-null    object \n",
      " 13  CM_morph   794 non-null    object \n",
      " 14  MS2_morph  794 non-null    object \n",
      " 15  CP_morph   794 non-null    object \n",
      " 16  SSA        794 non-null    float64\n",
      " 17  C          794 non-null    float64\n",
      " 18  Cation     794 non-null    object \n",
      " 19  Anion      794 non-null    object \n",
      " 20  P_low      794 non-null    float64\n",
      " 21  P_high     794 non-null    float64\n",
      " 22  CD         794 non-null    float64\n",
      " 23  Cs         794 non-null    float64\n",
      "dtypes: bool(11), float64(6), object(7)\n",
      "memory usage: 89.3+ KB\n",
      "None\n"
     ]
    }
   ],
   "source": [
    "# Data overview\n",
    "print(\"Data Info:\")\n",
    "print(data.info())"
   ]
  },
  {
   "cell_type": "code",
   "execution_count": 3,
   "metadata": {},
   "outputs": [
    {
     "name": "stdout",
     "output_type": "stream",
     "text": [
      "\n",
      "Descriptive Statistics for Numerical Columns:\n"
     ]
    },
    {
     "data": {
      "text/html": [
       "<div>\n",
       "<style scoped>\n",
       "    .dataframe tbody tr th:only-of-type {\n",
       "        vertical-align: middle;\n",
       "    }\n",
       "\n",
       "    .dataframe tbody tr th {\n",
       "        vertical-align: top;\n",
       "    }\n",
       "\n",
       "    .dataframe thead th {\n",
       "        text-align: right;\n",
       "    }\n",
       "</style>\n",
       "<table border=\"1\" class=\"dataframe\">\n",
       "  <thead>\n",
       "    <tr style=\"text-align: right;\">\n",
       "      <th></th>\n",
       "      <th>SSA</th>\n",
       "      <th>C</th>\n",
       "      <th>P_low</th>\n",
       "      <th>P_high</th>\n",
       "      <th>CD</th>\n",
       "      <th>Cs</th>\n",
       "    </tr>\n",
       "  </thead>\n",
       "  <tbody>\n",
       "    <tr>\n",
       "      <th>count</th>\n",
       "      <td>794.000000</td>\n",
       "      <td>794.000000</td>\n",
       "      <td>794.000000</td>\n",
       "      <td>794.000000</td>\n",
       "      <td>794.000000</td>\n",
       "      <td>794.000000</td>\n",
       "    </tr>\n",
       "    <tr>\n",
       "      <th>mean</th>\n",
       "      <td>80.228184</td>\n",
       "      <td>3.034005</td>\n",
       "      <td>-0.181360</td>\n",
       "      <td>0.407758</td>\n",
       "      <td>5.675063</td>\n",
       "      <td>642.334388</td>\n",
       "    </tr>\n",
       "    <tr>\n",
       "      <th>std</th>\n",
       "      <td>117.581538</td>\n",
       "      <td>1.981020</td>\n",
       "      <td>0.334999</td>\n",
       "      <td>0.233775</td>\n",
       "      <td>6.151714</td>\n",
       "      <td>645.671965</td>\n",
       "    </tr>\n",
       "    <tr>\n",
       "      <th>min</th>\n",
       "      <td>1.750000</td>\n",
       "      <td>1.000000</td>\n",
       "      <td>-1.200000</td>\n",
       "      <td>-0.300000</td>\n",
       "      <td>0.100000</td>\n",
       "      <td>14.800000</td>\n",
       "    </tr>\n",
       "    <tr>\n",
       "      <th>25%</th>\n",
       "      <td>17.370000</td>\n",
       "      <td>2.000000</td>\n",
       "      <td>-0.100000</td>\n",
       "      <td>0.400000</td>\n",
       "      <td>1.125000</td>\n",
       "      <td>160.000000</td>\n",
       "    </tr>\n",
       "    <tr>\n",
       "      <th>50%</th>\n",
       "      <td>39.890000</td>\n",
       "      <td>2.000000</td>\n",
       "      <td>0.000000</td>\n",
       "      <td>0.450000</td>\n",
       "      <td>4.000000</td>\n",
       "      <td>422.500000</td>\n",
       "    </tr>\n",
       "    <tr>\n",
       "      <th>75%</th>\n",
       "      <td>100.200000</td>\n",
       "      <td>6.000000</td>\n",
       "      <td>0.000000</td>\n",
       "      <td>0.500000</td>\n",
       "      <td>8.000000</td>\n",
       "      <td>892.050000</td>\n",
       "    </tr>\n",
       "    <tr>\n",
       "      <th>max</th>\n",
       "      <td>918.000000</td>\n",
       "      <td>6.000000</td>\n",
       "      <td>0.000000</td>\n",
       "      <td>1.000000</td>\n",
       "      <td>50.000000</td>\n",
       "      <td>4474.100000</td>\n",
       "    </tr>\n",
       "  </tbody>\n",
       "</table>\n",
       "</div>"
      ],
      "text/plain": [
       "              SSA           C       P_low      P_high          CD           Cs\n",
       "count  794.000000  794.000000  794.000000  794.000000  794.000000   794.000000\n",
       "mean    80.228184    3.034005   -0.181360    0.407758    5.675063   642.334388\n",
       "std    117.581538    1.981020    0.334999    0.233775    6.151714   645.671965\n",
       "min      1.750000    1.000000   -1.200000   -0.300000    0.100000    14.800000\n",
       "25%     17.370000    2.000000   -0.100000    0.400000    1.125000   160.000000\n",
       "50%     39.890000    2.000000    0.000000    0.450000    4.000000   422.500000\n",
       "75%    100.200000    6.000000    0.000000    0.500000    8.000000   892.050000\n",
       "max    918.000000    6.000000    0.000000    1.000000   50.000000  4474.100000"
      ]
     },
     "execution_count": 3,
     "metadata": {},
     "output_type": "execute_result"
    }
   ],
   "source": [
    "# Descriptive statistics for numerical columns\n",
    "print(\"\\nDescriptive Statistics for Numerical Columns:\")\n",
    "data.describe()"
   ]
  },
  {
   "cell_type": "code",
   "execution_count": 4,
   "metadata": {},
   "outputs": [
    {
     "name": "stdout",
     "output_type": "stream",
     "text": [
      "\n",
      "Frequency Distribution for CM_type:\n",
      "CM_type\n",
      "0                       395\n",
      "derived carbon-based    206\n",
      "G-based                 122\n",
      "CNF                      43\n",
      "CNT                      28\n",
      "Name: count, dtype: int64\n",
      "\n",
      "Frequency Distribution for CM_morph:\n",
      "CM_morph\n",
      "0             395\n",
      "3D porous     184\n",
      "2D             93\n",
      "3D special     53\n",
      "1D fibers      48\n",
      "1D tubes       15\n",
      "0D QDs          6\n",
      "Name: count, dtype: int64\n",
      "\n",
      "Frequency Distribution for MS2_morph:\n",
      "MS2_morph\n",
      "irregular nanoparticles    316\n",
      "flower-like clusters       164\n",
      "nanoparticles              152\n",
      "nanosheets                  76\n",
      "hollow morph                55\n",
      "bulk                        31\n",
      "Name: count, dtype: int64\n",
      "\n",
      "Frequency Distribution for CP_morph:\n",
      "CP_morph\n",
      "0                  395\n",
      "supported          238\n",
      "interconnection     73\n",
      "embedded            47\n",
      "coated              41\n",
      "Name: count, dtype: int64\n",
      "\n",
      "Frequency Distribution for Cation:\n",
      "Cation\n",
      "K     664\n",
      "Na     84\n",
      "H      32\n",
      "Li     14\n",
      "Name: count, dtype: int64\n",
      "\n",
      "Frequency Distribution for Anion:\n",
      "Anion\n",
      "OH     696\n",
      "SO4     87\n",
      "SO3      6\n",
      "Cl       5\n",
      "Name: count, dtype: int64\n"
     ]
    }
   ],
   "source": [
    "# Frequency distribution for categorical columns\n",
    "categorical_columns = ['CM_type', 'CM_morph', 'MS2_morph', 'CP_morph', 'Cation', 'Anion']\n",
    "for col in categorical_columns:\n",
    "    print(f\"\\nFrequency Distribution for {col}:\")\n",
    "    print(data[col].value_counts())"
   ]
  },
  {
   "cell_type": "code",
   "execution_count": 5,
   "metadata": {},
   "outputs": [],
   "source": [
    "# 将上面的输出全部合并到一个md文件中\n",
    "import io\n",
    "\n",
    "with open('data_ver_6_overview.md', 'w') as f:\n",
    "    f.write(\"# Data Overview\\n\")\n",
    "    f.write(\"## Data Info:\\n\")\n",
    "    \n",
    "    # 捕获 data.info() 的输出\n",
    "    buffer = io.StringIO()\n",
    "    data.info(buf=buffer)\n",
    "    info_str = buffer.getvalue()\n",
    "    f.write(f\"{info_str}\\n\")\n",
    "    \n",
    "    f.write(\"\\n## Descriptive Statistics for Numerical Columns:\\n\")\n",
    "    f.write(f\"{data.describe()}\\n\")\n",
    "    for col in categorical_columns:\n",
    "        f.write(f\"\\n## Frequency Distribution for {col}:\\n\")\n",
    "        f.write(f\"{data[col].value_counts()}\\n\")"
   ]
  },
  {
   "cell_type": "code",
   "execution_count": 6,
   "metadata": {},
   "outputs": [],
   "source": [
    "data_output = data.drop(columns=['Name'])\n",
    "\n",
    "# 将数据输出到csv文件\n",
    "data_output.to_csv('dataset.csv', index=False)"
   ]
  },
  {
   "cell_type": "code",
   "execution_count": 8,
   "metadata": {},
   "outputs": [
    {
     "name": "stderr",
     "output_type": "stream",
     "text": [
      "C:\\Users\\Micha\\AppData\\Local\\Temp\\ipykernel_35920\\3910981459.py:6: FutureWarning: \n",
      "\n",
      "`shade` is now deprecated in favor of `fill`; setting `fill=True`.\n",
      "This will become an error in seaborn v0.14.0; please update your code.\n",
      "\n",
      "  sns.kdeplot(data['Cs'], shade=True)\n"
     ]
    },
    {
     "data": {
      "image/png": "[encoded data removed]",
      "text/plain": [
       "<Figure size 1000x600 with 1 Axes>"
      ]
     },
     "metadata": {},
     "output_type": "display_data"
    }
   ],
   "source": [
    "from matplotlib import pyplot as plt\n",
    "import seaborn as sns\n",
    "\n",
    "# 绘制目标值列 'Cs' 的数据分布曲线\n",
    "plt.figure(figsize=(10, 6))\n",
    "sns.kdeplot(data['Cs'], shade=True)\n",
    "plt.title('Distribution of Target Variable: Cs')\n",
    "plt.xlabel('Cs')\n",
    "plt.ylabel('Density')\n",
    "plt.grid(True)\n",
    "plt.show()\n"
   ]
  }
 ],
 "metadata": {
  "kernelspec": {
   "display_name": "ml_ms2",
   "language": "python",
   "name": "ml_ms2"
  },
  "language_info": {
   "codemirror_mode": {
    "name": "ipython",
    "version": 3
   },
   "file_extension": ".py",
   "mimetype": "text/x-python",
   "name": "python",
   "nbconvert_exporter": "python",
   "pygments_lexer": "ipython3",
   "version": "3.12.9"
  }
 },
 "nbformat": 4,
 "nbformat_minor": 2
}

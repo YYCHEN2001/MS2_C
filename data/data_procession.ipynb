{
 "cells": [
  {
   "cell_type": "markdown",
   "id": "5d69095b3db626ea",
   "metadata": {},
   "source": [
    "# 读取数据"
   ]
  },
  {
   "cell_type": "code",
   "execution_count": 1,
   "id": "initial_id",
   "metadata": {
    "ExecuteTime": {
     "end_time": "2025-03-03T08:39:46.783201Z",
     "start_time": "2025-03-03T08:39:46.247845Z"
    },
    "collapsed": true
   },
   "outputs": [],
   "source": [
    "import pandas as pd\n",
    "import io\n",
    "\n",
    "data_1 = pd.read_excel('dataset_procession_ver_1.xlsx')"
   ]
  },
  {
   "cell_type": "markdown",
   "id": "1d34fcb13d86d985",
   "metadata": {},
   "source": [
    "# 人工特征处理"
   ]
  },
  {
   "cell_type": "markdown",
   "id": "e68f5fbf",
   "metadata": {},
   "source": [
    "为了减少数据集在编码后的维度，对各分类特征进行进一步的归类。"
   ]
  },
  {
   "cell_type": "markdown",
   "id": "f6bbd57d",
   "metadata": {},
   "source": [
    "## CM_type 列"
   ]
  },
  {
   "cell_type": "code",
   "execution_count": 2,
   "id": "4aefb44643cc127b",
   "metadata": {
    "ExecuteTime": {
     "end_time": "2025-03-03T08:39:46.833887Z",
     "start_time": "2025-03-03T08:39:46.830627Z"
    }
   },
   "outputs": [],
   "source": [
    "# CM_type 列\n",
    "    # 1. derived carbon-based\n",
    "    # includes derived carbon and derived carbon & CNT.\n",
    "    # 2. CNT\n",
    "    # includes CNT and MWCNT.\n",
    "    # 3. CNF\n",
    "    # includes CNF and CC.\n",
    "    # 4. G-based\n",
    "    # includes Graphene, GO and RGO.\n",
    "\n",
    "# 替换 CM_type 中的特定值为 'derived carbon-based'\n",
    "replace_values = ['derived carbon', 'derived carbon & CNT']\n",
    "data_1['CM_type'] = data_1['CM_type'].replace(replace_values, 'derived carbon-based')\n",
    "\n",
    "# 替换 CM_type 中的特定值为 'CNT'\n",
    "replace_values = ['CNT', 'MWCNT']\n",
    "data_1['CM_type'] = data_1['CM_type'].replace(replace_values, 'CNT')\n",
    "\n",
    "# 替换 CM_type 中的特定值为 'CNF'\n",
    "replace_values = ['CNF', 'CC']\n",
    "data_1['CM_type'] = data_1['CM_type'].replace(replace_values, 'CNF')\n",
    "\n",
    "# 替换 CM_type 中的特定值为 'G-based'\n",
    "replace_values = ['Graphene', 'GO', 'RGO']\n",
    "data_1['CM_type'] = data_1['CM_type'].replace(replace_values, 'G-based')\n",
    "\n",
    "data_1.to_csv('dataset_procession_ver_2.csv', index=False)"
   ]
  },
  {
   "cell_type": "markdown",
   "id": "a6564fcb",
   "metadata": {},
   "source": [
    "## CM_morph 列"
   ]
  },
  {
   "cell_type": "code",
   "execution_count": 3,
   "id": "226daac6",
   "metadata": {},
   "outputs": [],
   "source": [
    "data_2 = pd.read_csv('dataset_procession_ver_2.csv')\n",
    "\n",
    "# CM_morph列\n",
    "    # 1. 0D\n",
    "    # includes 0D QDs.\n",
    "    # 2. 1D fibers.\n",
    "    # includes 1D fibers.\n",
    "    # 3. 1D tubes\n",
    "    # includes 1D tubes.\n",
    "    # 4. 2D\n",
    "    # includes 2D nanosheets.\n",
    "    # 5. 3D porous\n",
    "    # includes 3D porous and 3D networks.\n",
    "    # 6. 3D special\n",
    "    # includes nanoparticles, nanospheres, rods, tubes and flower-like.\n",
    "\n",
    "# 替换 CM_morph 中的特定值为 '0D'\n",
    "replace_values = ['OD QDs']\n",
    "data_2['CM_morph'] = data_2['CM_morph'].replace(replace_values, '0D')\n",
    "\n",
    "# 替换 CM_morph 中的特定值为 '2D'\n",
    "replace_values = ['2D nanosheets']\n",
    "data_2['CM_morph'] = data_2['CM_morph'].replace(replace_values, '2D')\n",
    "\n",
    "# 替换 CM_morph 中的特定值为 '3D porous'\n",
    "replace_values = ['3D porous', '3D networks']\n",
    "data_2['CM_morph'] = data_2['CM_morph'].replace(replace_values, '3D porous')\n",
    "\n",
    "# 替换 CM_morph 中的特定值为 '3D special'\n",
    "replace_values = ['nanoparticles', 'nanospheres', 'rods', 'tubes', 'flower-like']\n",
    "data_2['CM_morph'] = data_2['CM_morph'].replace(replace_values, '3D special')\n",
    "\n",
    "data_2.to_csv('dataset_procession_ver_3.csv', index=False)\n"
   ]
  },
  {
   "cell_type": "markdown",
   "id": "6c8ffcfa",
   "metadata": {},
   "source": [
    "## MS2_morph 列"
   ]
  },
  {
   "cell_type": "code",
   "execution_count": 4,
   "id": "e4a03a1e",
   "metadata": {},
   "outputs": [],
   "source": [
    "data_3 = pd.read_csv('dataset_procession_ver_3.csv')\n",
    "\n",
    "# MS2_morph列\n",
    "    # 1. bulk\n",
    "    # includes bulk. 无规则块体。\n",
    "    # 2. nanosheets\n",
    "    # includes nanosheets. 指片状, 但厚度大于10 nm.\n",
    "    # 3. flower-like clusters\n",
    "    # includes flower-like clusters. 指花状团簇。\n",
    "    # 4. irregular nanoparticles\n",
    "    # includes irregular nanoparticles. 指不规则形状的纳米颗粒, 粒径小于1 μm。\n",
    "    # 5. hollow morph\n",
    "    # includes hollow spheres, hollow rods, hollow cubes, hollow nanoparticles,\n",
    "    # double shell spheres, yolk-shell spheres and core-shell nanoparticles. 含空心形貌。\n",
    "    # 6. nanoparticles\n",
    "    # includes nanoparticles, octahedron, cubes, rods and spheres. 具有均匀规则形貌。\n",
    "\n",
    "# 替换 MS2_morph 中的特定值为 'nanosheets'\n",
    "replace_values = ['nanosheets']\n",
    "data_3['MS2_morph'] = data_3['MS2_morph'].replace(replace_values, 'nanosheets')\n",
    "\n",
    "# 替换 MS2_morph 中的特定值为 'flower-like clusters'\n",
    "replace_values = ['flower-like clusters']\n",
    "data_3['MS2_morph'] = data_3['MS2_morph'].replace(replace_values, 'flower-like clusters')\n",
    "\n",
    "# 替换 MS2_morph 中的特定值为 'irregular nanoparticles'\n",
    "replace_values = ['irregular nanoparticles']\n",
    "data_3['MS2_morph'] = data_3['MS2_morph'].replace(replace_values, 'irregular nanoparticles')\n",
    "\n",
    "# 替换 MS2_morph 中的特定值为 'hollow morph'\n",
    "replace_values = ['hollow spheres', 'hollow rods', 'hollow cubes', 'hollow nanoparticles',\n",
    "                  'double shell spheres', 'yolk-shell spheres', 'core-shell nanoparticles']\n",
    "data_3['MS2_morph'] = data_3['MS2_morph'].replace(replace_values, 'hollow morph')\n",
    "\n",
    "# 替换 MS2_morph 中的特定值为 'nanoparticles'\n",
    "replace_values = ['nanoparticles', 'octahedron', 'cubes', 'rods', 'spheres']\n",
    "data_3['MS2_morph'] = data_3['MS2_morph'].replace(replace_values, 'nanoparticles')\n",
    "\n",
    "data_3.to_csv('dataset_procession_ver_4.csv', index=False)"
   ]
  },
  {
   "cell_type": "markdown",
   "id": "545e1fd2",
   "metadata": {},
   "source": [
    "## 统计改动后的列信息"
   ]
  },
  {
   "cell_type": "code",
   "execution_count": 5,
   "id": "aa269fc8",
   "metadata": {},
   "outputs": [],
   "source": [
    "# 统计 CM_type 列中的值\n",
    "data_4 = pd.read_csv('dataset_procession_ver_4.csv')\n",
    "data_4['CM_type'].value_counts()\n",
    "\n",
    "# 统计 CM_morph 列中的值\n",
    "data_4['CM_morph'].value_counts()\n",
    "\n",
    "# 统计 MS2_morph 列中的值\n",
    "data_4['MS2_morph'].value_counts()\n",
    "\n",
    "# 统计 CP_morph 列中的值\n",
    "data_4['CP_morph'].value_counts()\n",
    "\n",
    "# 输出统计结果，保存为 md 文件\n",
    "with open('dataset_procession_ver_4.md', 'w') as f:\n",
    "    f.write('## CM_type\\n')\n",
    "    f.write(data_4['CM_type'].value_counts().to_markdown())\n",
    "    f.write('\\n\\n')\n",
    "    f.write('## CM_morph\\n')\n",
    "    f.write(data_4['CM_morph'].value_counts().to_markdown())\n",
    "    f.write('\\n\\n')\n",
    "    f.write('## MS2_morph\\n')\n",
    "    f.write(data_4['MS2_morph'].value_counts().to_markdown())\n",
    "    f.write('\\n\\n')\n",
    "    f.write('## CP_morph\\n')\n",
    "    f.write(data_4['CP_morph'].value_counts().to_markdown())\n",
    "    f.write('\\n\\n')"
   ]
  },
  {
   "cell_type": "markdown",
   "id": "256ba338",
   "metadata": {},
   "source": [
    "## 金属中心原子特征"
   ]
  },
  {
   "cell_type": "code",
   "execution_count": 6,
   "id": "eb71f0dc",
   "metadata": {},
   "outputs": [],
   "source": [
    "data_4 = pd.read_csv('dataset_procession_ver_4.csv')\n",
    "\n",
    "# 手动One-Hot编码\n",
    "# 将 Ti, V, Mn, Fe, Co, Ni, Zr, Mo, Sn, W, CP 列转换为布尔值\n",
    "boolean_columns = [# 'Ti', \n",
    "                   'V', \n",
    "                   # 'Mn', \n",
    "                   'Fe', \n",
    "                   'Co', \n",
    "                   'Ni', \n",
    "                   # 'Zr', \n",
    "                   'Mo', \n",
    "                   'Sn', \n",
    "                   'W', \n",
    "                   'CP']\n",
    "data_4[boolean_columns] = data_4[boolean_columns].astype(bool)\n",
    "\n",
    "data_4.to_csv('dataset_procession_ver_5.csv', index=False)"
   ]
  },
  {
   "cell_type": "markdown",
   "id": "f57ce105",
   "metadata": {},
   "source": [
    "## 材料形貌特征"
   ]
  },
  {
   "cell_type": "code",
   "execution_count": 7,
   "id": "4fa05277",
   "metadata": {},
   "outputs": [],
   "source": [
    "data_5 = pd.read_csv('dataset_procession_ver_5.csv')\n",
    "\n",
    "# 由于后续将对分类特征进行One-Hot编码，因此需要将分类特征中的0替换为None占位符\n",
    "# CM_type, CM_morph, MS2_morph, CP_morph列中的0全部替换为None\n",
    "replace_values = {0: None}\n",
    "data_5['CM_type'] = data_5['CM_type'].replace(replace_values)\n",
    "data_5['CM_morph'] = data_5['CM_morph'].replace(replace_values)\n",
    "data_5['MS2_morph'] = data_5['MS2_morph'].replace(replace_values)\n",
    "data_5['CP_morph'] = data_5['CP_morph'].replace(replace_values)\n",
    "\n",
    "data_5.to_csv('dataset_procession_ver_6.csv', index=False)"
   ]
  },
  {
   "cell_type": "markdown",
   "id": "63fee656",
   "metadata": {},
   "source": [
    "# 数据分布"
   ]
  },
  {
   "cell_type": "code",
   "execution_count": null,
   "id": "2a54254a",
   "metadata": {},
   "outputs": [
    {
     "name": "stdout",
     "output_type": "stream",
     "text": [
      "Data Info:\n",
      "<class 'pandas.core.frame.DataFrame'>\n",
      "RangeIndex: 654 entries, 0 to 653\n",
      "Data columns (total 24 columns):\n",
      " #   Column     Non-Null Count  Dtype  \n",
      "---  ------     --------------  -----  \n",
      " 0   Index      654 non-null    int64  \n",
      " 1   Name       654 non-null    object \n",
      " 2   V          654 non-null    bool   \n",
      " 3   Fe         654 non-null    bool   \n",
      " 4   Co         654 non-null    bool   \n",
      " 5   Ni         654 non-null    bool   \n",
      " 6   Mo         654 non-null    bool   \n",
      " 7   Sn         654 non-null    bool   \n",
      " 8   W          654 non-null    bool   \n",
      " 9   CP         654 non-null    bool   \n",
      " 10  CM_type    654 non-null    object \n",
      " 11  CM_morph   654 non-null    object \n",
      " 12  MS2_morph  654 non-null    object \n",
      " 13  CP_morph   654 non-null    object \n",
      " 14  SSA        654 non-null    float64\n",
      " 15  C          654 non-null    float64\n",
      " 16  Cation     654 non-null    object \n",
      " 17  Anion      654 non-null    object \n",
      " 18  P_low      654 non-null    float64\n",
      " 19  P_high     654 non-null    float64\n",
      " 20  CD         654 non-null    float64\n",
      " 21  Cs         654 non-null    float64\n",
      " 22  Ref        654 non-null    object \n",
      " 23  Ref_index  654 non-null    int64  \n",
      "dtypes: bool(8), float64(6), int64(2), object(8)\n",
      "memory usage: 87.0+ KB\n",
      "None\n",
      "\n",
      "Descriptive Statistics for Numerical Columns:\n",
      "\n",
      "Frequency Distribution for CM_type:\n",
      "CM_type\n",
      "0                       343\n",
      "derived carbon-based    141\n",
      "G-based                 105\n",
      "CNF                      37\n",
      "CNT                      28\n",
      "Name: count, dtype: int64\n",
      "\n",
      "Frequency Distribution for CM_morph:\n",
      "CM_morph\n",
      "0             343\n",
      "3D porous     114\n",
      "2D             81\n",
      "3D special     53\n",
      "1D fibers      42\n",
      "1D tubes       15\n",
      "0D QDs          6\n",
      "Name: count, dtype: int64\n",
      "\n",
      "Frequency Distribution for MS2_morph:\n",
      "MS2_morph\n",
      "irregular nanoparticles    236\n",
      "flower-like clusters       152\n",
      "nanoparticles              117\n",
      "nanosheets                  76\n",
      "hollow morph                49\n",
      "bulk                        24\n",
      "Name: count, dtype: int64\n",
      "\n",
      "Frequency Distribution for CP_morph:\n",
      "CP_morph\n",
      "0                  343\n",
      "supported          156\n",
      "interconnection     73\n",
      "embedded            47\n",
      "coated              35\n",
      "Name: count, dtype: int64\n",
      "\n",
      "Frequency Distribution for Cation:\n",
      "Cation\n",
      "K     536\n",
      "Na     84\n",
      "H      20\n",
      "Li     14\n",
      "Name: count, dtype: int64\n",
      "\n",
      "Frequency Distribution for Anion:\n",
      "Anion\n",
      "OH     568\n",
      "SO4     75\n",
      "SO3      6\n",
      "Cl       5\n",
      "Name: count, dtype: int64\n"
     ]
    }
   ],
   "source": [
    "data = pd.read_csv('dataset_procession_ver_6.csv')\n",
    "\n",
    "# Data overview\n",
    "print(\"Data Info:\")\n",
    "print(data.info())\n",
    "\n",
    "# Descriptive statistics for numerical columns\n",
    "print(\"\\nDescriptive Statistics for Numerical Columns:\")\n",
    "data.describe()\n",
    "\n",
    "# Frequency distribution for categorical columns\n",
    "categorical_columns = ['CM_type', 'CM_morph', 'MS2_morph', 'CP_morph', 'Cation', 'Anion']\n",
    "for col in categorical_columns:\n",
    "    print(f\"\\nFrequency Distribution for {col}:\")\n",
    "    print(data[col].value_counts())\n",
    "    \n",
    "# 将上面的输出全部合并到一个md文件中\n",
    "\n",
    "with open('data_ver_6_overview.md', 'w') as f:\n",
    "    f.write(\"# Data Overview\\n\")\n",
    "    f.write(\"## Data Info:\\n\")\n",
    "    \n",
    "    # 捕获 data.info() 的输出\n",
    "    buffer = io.StringIO()\n",
    "    data.info(buf=buffer)\n",
    "    info_str = buffer.getvalue()\n",
    "    f.write(f\"{info_str}\\n\")\n",
    "    \n",
    "    f.write(\"\\n## Descriptive Statistics for Numerical Columns:\\n\")\n",
    "    f.write(f\"{data.describe()}\\n\")\n",
    "    for col in categorical_columns:\n",
    "        f.write(f\"\\n## Frequency Distribution for {col}:\\n\")\n",
    "        f.write(f\"{data[col].value_counts()}\\n\")"
   ]
  },
  {
   "cell_type": "code",
   "execution_count": 9,
   "id": "b7630663",
   "metadata": {},
   "outputs": [],
   "source": [
    "data_output = data.drop(columns=['Name', 'Ref', 'Ref_index'])\n",
    "data_output['SSA'] = data_output['SSA'].round(1)\n",
    "data_output['Cs'] = data_output['Cs'].round(0)\n",
    "# 将数据输出到csv文件\n",
    "data_output.to_csv('dataset.csv', index=False)"
   ]
  }
 ],
 "metadata": {
  "kernelspec": {
   "display_name": "ml_ms2",
   "language": "python",
   "name": "ml_ms2"
  },
  "language_info": {
   "codemirror_mode": {
    "name": "ipython",
    "version": 3
   },
   "file_extension": ".py",
   "mimetype": "text/x-python",
   "name": "python",
   "nbconvert_exporter": "python",
   "pygments_lexer": "ipython3",
   "version": "3.12.9"
  }
 },
 "nbformat": 4,
 "nbformat_minor": 5
}

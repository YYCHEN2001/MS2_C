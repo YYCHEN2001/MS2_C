{
 "cells": [
  {
   "cell_type": "markdown",
   "id": "5d69095b3db626ea",
   "metadata": {},
   "source": [
    "# 读取数据"
   ]
  },
  {
   "cell_type": "code",
   "execution_count": 1,
   "id": "initial_id",
   "metadata": {
    "ExecuteTime": {
     "end_time": "2025-03-03T08:39:46.783201Z",
     "start_time": "2025-03-03T08:39:46.247845Z"
    },
    "collapsed": true
   },
   "outputs": [],
   "source": [
    "import pandas as pd\n",
    "\n",
    "data_1 = pd.read_excel('dataset_procession_ver_1.xlsx')"
   ]
  },
  {
   "cell_type": "markdown",
   "id": "1d34fcb13d86d985",
   "metadata": {},
   "source": [
    "# 人工特征处理"
   ]
  },
  {
   "cell_type": "markdown",
   "id": "e68f5fbf",
   "metadata": {},
   "source": [
    "为了减少数据集在编码后的维度，对各分类特征进行进一步的归类。"
   ]
  },
  {
   "cell_type": "markdown",
   "id": "f6bbd57d",
   "metadata": {},
   "source": [
    "## CM_type 列"
   ]
  },
  {
   "cell_type": "code",
   "execution_count": 2,
   "id": "4aefb44643cc127b",
   "metadata": {
    "ExecuteTime": {
     "end_time": "2025-03-03T08:39:46.833887Z",
     "start_time": "2025-03-03T08:39:46.830627Z"
    }
   },
   "outputs": [],
   "source": [
    "# CM_type 列\n",
    "    # 1. derived carbon-based\n",
    "    # includes derived carbon and derived carbon & CNT.\n",
    "    # 2. CNT\n",
    "    # includes CNT and MWCNT.\n",
    "    # 3. CNF\n",
    "    # includes CNF and CC.\n",
    "    # 4. G-based\n",
    "    # includes Graphene, GO and RGO.\n",
    "\n",
    "# 替换 CM_type 中的特定值为 'derived carbon-based'\n",
    "replace_values = ['derived carbon', 'derived carbon & CNT']\n",
    "data_1['CM_type'] = data_1['CM_type'].replace(replace_values, 'derived carbon-based')\n",
    "\n",
    "# 替换 CM_type 中的特定值为 'CNT'\n",
    "replace_values = ['CNT', 'MWCNT']\n",
    "data_1['CM_type'] = data_1['CM_type'].replace(replace_values, 'CNT')\n",
    "\n",
    "# 替换 CM_type 中的特定值为 'CNF'\n",
    "replace_values = ['CNF', 'CC']\n",
    "data_1['CM_type'] = data_1['CM_type'].replace(replace_values, 'CNF')\n",
    "\n",
    "# 替换 CM_type 中的特定值为 'G-based'\n",
    "replace_values = ['Graphene', 'GO', 'RGO']\n",
    "data_1['CM_type'] = data_1['CM_type'].replace(replace_values, 'G-based')\n",
    "\n",
    "data_1.to_csv('dataset_procession_ver_2.csv', index=False)"
   ]
  },
  {
   "cell_type": "markdown",
   "id": "a6564fcb",
   "metadata": {},
   "source": [
    "## CM_morph 列"
   ]
  },
  {
   "cell_type": "code",
   "execution_count": 3,
   "id": "226daac6",
   "metadata": {},
   "outputs": [],
   "source": [
    "data_2 = pd.read_csv('dataset_procession_ver_2.csv')\n",
    "\n",
    "# CM_morph列\n",
    "    # 1. 0D\n",
    "    # includes 0D QDs.\n",
    "    # 2. 1D fibers.\n",
    "    # includes 1D fibers.\n",
    "    # 3. 1D tubes\n",
    "    # includes 1D tubes.\n",
    "    # 4. 2D\n",
    "    # includes 2D nanosheets.\n",
    "    # 5. 3D porous\n",
    "    # includes 3D porous and 3D networks.\n",
    "    # 6. 3D special\n",
    "    # includes nanoparticles, nanospheres, rods, tubes and flower-like.\n",
    "\n",
    "# 替换 CM_morph 中的特定值为 '0D'\n",
    "replace_values = ['OD QDs']\n",
    "data_2['CM_morph'] = data_2['CM_morph'].replace(replace_values, '0D')\n",
    "\n",
    "# 替换 CM_morph 中的特定值为 '2D'\n",
    "replace_values = ['2D nanosheets']\n",
    "data_2['CM_morph'] = data_2['CM_morph'].replace(replace_values, '2D')\n",
    "\n",
    "# 替换 CM_morph 中的特定值为 '3D porous'\n",
    "replace_values = ['3D porous', '3D networks']\n",
    "data_2['CM_morph'] = data_2['CM_morph'].replace(replace_values, '3D porous')\n",
    "\n",
    "# 替换 CM_morph 中的特定值为 '3D special'\n",
    "replace_values = ['nanoparticles', 'nanospheres', 'rods', 'tubes', 'flower-like']\n",
    "data_2['CM_morph'] = data_2['CM_morph'].replace(replace_values, '3D special')\n",
    "\n",
    "data_2.to_csv('dataset_procession_ver_3.csv', index=False)\n"
   ]
  },
  {
   "cell_type": "markdown",
   "id": "6c8ffcfa",
   "metadata": {},
   "source": [
    "## MS2_morph 列"
   ]
  },
  {
   "cell_type": "code",
   "execution_count": 4,
   "id": "e4a03a1e",
   "metadata": {},
   "outputs": [],
   "source": [
    "data_3 = pd.read_csv('dataset_procession_ver_3.csv')\n",
    "\n",
    "# MS2_morph列\n",
    "    # 1. bulk\n",
    "    # includes bulk. 无规则块体。\n",
    "    # 2. nanosheets\n",
    "    # includes nanosheets. 指片状, 但厚度大于10 nm.\n",
    "    # 3. flower-like clusters\n",
    "    # includes flower-like clusters. 指花状团簇。\n",
    "    # 4. irregular nanoparticles\n",
    "    # includes irregular nanoparticles. 指不规则形状的纳米颗粒, 粒径小于1 μm。\n",
    "    # 5. hollow morph\n",
    "    # includes hollow spheres, hollow rods, hollow cubes, hollow nanoparticles,\n",
    "    # double shell spheres, yolk-shell spheres and core-shell nanoparticles. 含空心形貌。\n",
    "    # 6. nanoparticles\n",
    "    # includes nanoparticles, octahedron, cubes, rods and spheres. 具有均匀规则形貌。\n",
    "\n",
    "# 替换 MS2_morph 中的特定值为 'nanosheets'\n",
    "replace_values = ['nanosheets']\n",
    "data_3['MS2_morph'] = data_3['MS2_morph'].replace(replace_values, 'nanosheets')\n",
    "\n",
    "# 替换 MS2_morph 中的特定值为 'flower-like clusters'\n",
    "replace_values = ['flower-like clusters']\n",
    "data_3['MS2_morph'] = data_3['MS2_morph'].replace(replace_values, 'flower-like clusters')\n",
    "\n",
    "# 替换 MS2_morph 中的特定值为 'irregular nanoparticles'\n",
    "replace_values = ['irregular nanoparticles']\n",
    "data_3['MS2_morph'] = data_3['MS2_morph'].replace(replace_values, 'irregular nanoparticles')\n",
    "\n",
    "# 替换 MS2_morph 中的特定值为 'hollow morph'\n",
    "replace_values = ['hollow spheres', 'hollow rods', 'hollow cubes', 'hollow nanoparticles',\n",
    "                  'double shell spheres', 'yolk-shell spheres', 'core-shell nanoparticles']\n",
    "data_3['MS2_morph'] = data_3['MS2_morph'].replace(replace_values, 'hollow morph')\n",
    "\n",
    "# 替换 MS2_morph 中的特定值为 'nanoparticles'\n",
    "replace_values = ['nanoparticles', 'octahedron', 'cubes', 'rods', 'spheres']\n",
    "data_3['MS2_morph'] = data_3['MS2_morph'].replace(replace_values, 'nanoparticles')\n",
    "\n",
    "data_3.to_csv('dataset_procession_ver_4.csv', index=False)"
   ]
  },
  {
   "cell_type": "markdown",
   "id": "545e1fd2",
   "metadata": {},
   "source": [
    "## 统计改动后的列信息"
   ]
  },
  {
   "cell_type": "code",
   "execution_count": 5,
   "id": "aa269fc8",
   "metadata": {},
   "outputs": [],
   "source": [
    "# 统计 CM_type 列中的值\n",
    "data_4 = pd.read_csv('dataset_procession_ver_4.csv')\n",
    "data_4['CM_type'].value_counts()\n",
    "\n",
    "# 统计 CM_morph 列中的值\n",
    "data_4['CM_morph'].value_counts()\n",
    "\n",
    "# 统计 MS2_morph 列中的值\n",
    "data_4['MS2_morph'].value_counts()\n",
    "\n",
    "# 统计 CP_morph 列中的值\n",
    "data_4['CP_morph'].value_counts()\n",
    "\n",
    "# 输出统计结果，保存为 md 文件\n",
    "with open('dataset_procession_ver_4.md', 'w') as f:\n",
    "    f.write('## CM_type\\n')\n",
    "    f.write(data_4['CM_type'].value_counts().to_markdown())\n",
    "    f.write('\\n\\n')\n",
    "    f.write('## CM_morph\\n')\n",
    "    f.write(data_4['CM_morph'].value_counts().to_markdown())\n",
    "    f.write('\\n\\n')\n",
    "    f.write('## MS2_morph\\n')\n",
    "    f.write(data_4['MS2_morph'].value_counts().to_markdown())\n",
    "    f.write('\\n\\n')\n",
    "    f.write('## CP_morph\\n')\n",
    "    f.write(data_4['CP_morph'].value_counts().to_markdown())\n",
    "    f.write('\\n\\n')"
   ]
  },
  {
   "cell_type": "markdown",
   "id": "256ba338",
   "metadata": {},
   "source": [
    "## 金属中心原子特征"
   ]
  },
  {
   "cell_type": "code",
   "execution_count": 6,
   "id": "eb71f0dc",
   "metadata": {},
   "outputs": [],
   "source": [
    "data_4 = pd.read_csv('dataset_procession_ver_4.csv')\n",
    "\n",
    "# 手动One-Hot编码\n",
    "# 将 Ti, V, Mn, Fe, Co, Ni, Zr, Mo, Sn, W, CP 列转换为布尔值\n",
    "boolean_columns = ['Ti', 'V', 'Mn', 'Fe', 'Co', 'Ni', 'Zr', 'Mo', 'Sn', 'W', 'CP']\n",
    "data_4[boolean_columns] = data_4[boolean_columns].astype(bool)\n",
    "\n",
    "data_4.to_csv('dataset_procession_ver_5.csv', index=False)"
   ]
  },
  {
   "cell_type": "markdown",
   "id": "f57ce105",
   "metadata": {},
   "source": [
    "## 材料形貌特征"
   ]
  },
  {
   "cell_type": "code",
   "execution_count": 7,
   "id": "4fa05277",
   "metadata": {},
   "outputs": [],
   "source": [
    "data_5 = pd.read_csv('dataset_procession_ver_5.csv')\n",
    "\n",
    "# 由于后续将对分类特征进行One-Hot编码，因此需要将分类特征中的0替换为None占位符\n",
    "# CM_type, CM_morph, MS2_morph, CP_morph列中的0全部替换为None\n",
    "replace_values = {0: None}\n",
    "data_5['CM_type'] = data_5['CM_type'].replace(replace_values)\n",
    "data_5['CM_morph'] = data_5['CM_morph'].replace(replace_values)\n",
    "data_5['MS2_morph'] = data_5['MS2_morph'].replace(replace_values)\n",
    "data_5['CP_morph'] = data_5['CP_morph'].replace(replace_values)\n",
    "\n",
    "data_5.to_csv('dataset_procession_ver_6.csv', index=False)"
   ]
  }
 ],
 "metadata": {
  "kernelspec": {
   "display_name": "ml_ms2",
   "language": "python",
   "name": "ml_ms2"
  },
  "language_info": {
   "codemirror_mode": {
    "name": "ipython",
    "version": 3
   },
   "file_extension": ".py",
   "mimetype": "text/x-python",
   "name": "python",
   "nbconvert_exporter": "python",
   "pygments_lexer": "ipython3",
   "version": "3.12.9"
  }
 },
 "nbformat": 4,
 "nbformat_minor": 5
}
